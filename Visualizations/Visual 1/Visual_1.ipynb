{
 "cells": [
  {
   "cell_type": "code",
   "execution_count": 1,
   "id": "cfac8d51",
   "metadata": {},
   "outputs": [],
   "source": [
    "\n",
    "import geopandas as gpd\n",
    "import folium\n",
    "import matplotlib.pyplot as plt\n",
    "from matplotlib.colors import to_hex\n",
    "import numpy as np\n"
   ]
  },
  {
   "cell_type": "code",
   "execution_count": 2,
   "id": "6f4841ca",
   "metadata": {},
   "outputs": [],
   "source": [
    "# Load data\n",
    "stations = gpd.read_file('/Users/vinaymadhugiri/Downloads/NJTransit_Rail_Stations_-3939820597305918471.geojson')  # NJ Transit stations GeoJSON\n",
    "lines = gpd.read_file('/Users/vinaymadhugiri/Downloads/Rail_Lines_of_NJ_Transit.geojson')   # Rail lines GeoJSON\n",
    "municipalities = gpd.read_file('/Users/vinaymadhugiri/Downloads/NJ_Municipal_Boundaries_3424_930771950455602469.geojson')  # Municipalities GeoJSON\n",
    "\n",
    "# Create a Folium map centered around a specific location (e.g., New Jersey)\n",
    "nj_map = folium.Map(location=[40.0583, -74.4057], zoom_start=9)"
   ]
  },
  {
   "cell_type": "code",
   "execution_count": 3,
   "id": "6b0748ac-5c66-4ac8-81ca-e2543d57d713",
   "metadata": {},
   "outputs": [],
   "source": [
    "# Perform spatial joins\n",
    "stations_with_lines = gpd.sjoin(stations, lines, how=\"left\", predicate=\"intersects\")\n",
    "\n",
    "# Rename the index columns if they exist\n",
    "stations_with_lines = stations_with_lines.rename(columns={'index_left': 'left_index', 'index_right': 'right_index'})\n",
    "municipalities = municipalities.rename(columns={'index_left': 'left_index', 'index_right': 'right_index'})\n",
    "\n",
    "# Now perform the second spatial join\n",
    "stations_with_data = gpd.sjoin(stations_with_lines, municipalities, how=\"left\", predicate=\"within\")"
   ]
  },
  {
   "cell_type": "code",
   "execution_count": 4,
   "id": "8cd64e3a-9b00-45d5-8679-5e2728fbb528",
   "metadata": {},
   "outputs": [
    {
     "name": "stdout",
     "output_type": "stream",
     "text": [
      "    OBJECTID_1            STATION_ID COUNTY_left  LATITUDE  LONGITUDE  \\\n",
      "0            1  Point Pleasant Beach       Ocean  40.09272  -74.04819   \n",
      "1            2           Spring Lake    Monmouth  40.15057  -74.03546   \n",
      "2            3                Belmar    Monmouth  40.18059  -74.02730   \n",
      "3            4         Bradley Beach    Monmouth  40.20378  -74.01896   \n",
      "4            5           Asbury Park    Monmouth  40.21536  -74.01479   \n",
      "5            6            Allenhurst    Monmouth  40.23766  -74.00676   \n",
      "6            7               Elberon    Monmouth  40.26532  -73.99759   \n",
      "7            8           Long Branch    Monmouth  40.29715  -73.98834   \n",
      "8            9         Monmouth Park    Monmouth  40.31339  -74.01519   \n",
      "9           10         Little Silver    Monmouth  40.32671  -74.04105   \n",
      "10          11              Red Bank    Monmouth  40.34831  -74.07455   \n",
      "11          12            Middletown    Monmouth  40.38978  -74.11613   \n",
      "12          13                Hazlet    Monmouth  40.41538  -74.19039   \n",
      "13          14      Aberdeen-Matawan    Monmouth  40.42017  -74.22370   \n",
      "14          15           South Amboy   Middlesex  40.48431  -74.28014   \n",
      "15          16           Perth Amboy   Middlesex  40.50937  -74.27370   \n",
      "16          17            Woodbridge   Middlesex  40.55661  -74.27775   \n",
      "17          18                Avenel   Middlesex  40.57769  -74.27746   \n",
      "18          19                Rahway       Union  40.60639  -74.27682   \n",
      "19          20                Linden       Union  40.62949  -74.25177   \n",
      "20          21             Elizabeth       Union  40.66786  -74.21517   \n",
      "21          22       North Elizabeth       Union  40.68027  -74.20616   \n",
      "22          23        Newark Airport       Essex  40.70442  -74.19071   \n",
      "23          24   Newark Penn Station       Essex  40.73426  -74.16454   \n",
      "24          25           High Bridge   Hunterdon  40.66689  -74.89586   \n",
      "\n",
      "     ATIS_ID SE_ANNO_CAD_DATA_left LINE_CODE_left     LAYER  \\\n",
      "0        123                                   NC  STATIONS   \n",
      "1        142                                   NC  STATIONS   \n",
      "2         15                                   NC  STATIONS   \n",
      "3         22                                   NC  STATIONS   \n",
      "4          8                                   NC  STATIONS   \n",
      "5          4                                   NC  STATIONS   \n",
      "6         40                                   NC  STATIONS   \n",
      "7         74                                   NC  STATIONS   \n",
      "8   RAIL0162                                   NC  STATIONS   \n",
      "9         73                                   NC  STATIONS   \n",
      "10       131                                   NC  STATIONS   \n",
      "11        86                                   NC  STATIONS   \n",
      "12        58                                   NC  STATIONS   \n",
      "13        83                                   NC  STATIONS   \n",
      "14       140                                   NC  STATIONS   \n",
      "15       120                                   NC  STATIONS   \n",
      "16       159                                   NC  STATIONS   \n",
      "17        11                                   NC  STATIONS   \n",
      "18       128                                   NE  STATIONS   \n",
      "19        70                                   NE  STATIONS   \n",
      "20        41                                   NE  STATIONS   \n",
      "21       110                                   NE  STATIONS   \n",
      "22  RAIL0164                                   NE  STATIONS   \n",
      "23       108                                   NE  STATIONS   \n",
      "24        59                                   RV  STATIONS   \n",
      "\n",
      "            MUNICIPALITY  ...   POP2020   POP2010   POP2000   POP1990  \\\n",
      "0   Point Pleasant Beach  ...    4766.0    4665.0    5314.0    5112.0   \n",
      "1            Spring Lake  ...    2789.0    2993.0    3567.0    3499.0   \n",
      "2                 Belmar  ...    5907.0    5794.0    6045.0    5877.0   \n",
      "3            Neptune Twp  ...    4282.0    4298.0    4793.0    4475.0   \n",
      "4            Asbury Park  ...   15188.0   16116.0   16930.0   16799.0   \n",
      "5             Allenhurst  ...     472.0     496.0     718.0     759.0   \n",
      "6            Long Branch  ...   31667.0   30719.0   31340.0   28658.0   \n",
      "7            Long Branch  ...   31667.0   30719.0   31340.0   28658.0   \n",
      "8              Oceanport  ...    6150.0    5832.0    5807.0    6146.0   \n",
      "9          Little Silver  ...    6131.0    5950.0    6170.0    5721.0   \n",
      "10              Red Bank  ...   12936.0   12206.0   11844.0   10636.0   \n",
      "11        Middletown Twp  ...   67106.0   66522.0   66327.0   68183.0   \n",
      "12            Hazlet Twp  ...   20125.0   20334.0   21378.0   21976.0   \n",
      "13               Matawan  ...    9565.0    8810.0    8910.0    9270.0   \n",
      "14           South Amboy  ...    9411.0    8631.0    7913.0    7863.0   \n",
      "15           Perth Amboy  ...   55436.0   50814.0   47303.0   41967.0   \n",
      "16        Woodbridge Twp  ...  103639.0   99585.0   97203.0   93086.0   \n",
      "17        Woodbridge Twp  ...  103639.0   99585.0   97203.0   93086.0   \n",
      "18                Rahway  ...   29556.0   27346.0   26500.0   25325.0   \n",
      "19                Linden  ...   43738.0   40499.0   39394.0   36701.0   \n",
      "20             Elizabeth  ...  137298.0  124969.0  120568.0  110002.0   \n",
      "21             Elizabeth  ...  137298.0  124969.0  120568.0  110002.0   \n",
      "22                Newark  ...  311549.0  277140.0  273546.0  275221.0   \n",
      "23                Newark  ...  311549.0  277140.0  273546.0  275221.0   \n",
      "24           High Bridge  ...    3546.0    3648.0    3776.0    3886.0   \n",
      "\n",
      "     POP1980 POPDEN2020 POPDEN2010 POPDEN2000  POPDEN1990  POPDEN1980  \n",
      "0     5415.0     2843.0     2496.0     2843.0      2735.0      2897.0  \n",
      "1     4215.0     2414.0     2025.0     2414.0      2368.0      2852.0  \n",
      "2     6771.0     4067.0     3898.0     4067.0      3954.0      4556.0  \n",
      "3     4772.0     7422.0     6655.0     7422.0      6929.0      7389.0  \n",
      "4    17015.0    11096.0    10563.0    11096.0     11010.0     11152.0  \n",
      "5      912.0     2755.0     1903.0     2755.0      2913.0      3500.0  \n",
      "6    29819.0     5722.0     5608.0     5722.0      5232.0      5444.0  \n",
      "7    29819.0     5722.0     5608.0     5722.0      5232.0      5444.0  \n",
      "8     5888.0     1418.0     1424.0     1418.0      1501.0      1438.0  \n",
      "9     5548.0     1940.0     1871.0     1940.0      1799.0      1744.0  \n",
      "10   12031.0     5483.0     5650.0     5483.0      4923.0      5569.0  \n",
      "11   62574.0     1523.0     1528.0     1523.0      1566.0      1437.0  \n",
      "12   23013.0     3771.0     3587.0     3771.0      3876.0      4059.0  \n",
      "13    8837.0     3698.0     3656.0     3698.0      3847.0      3667.0  \n",
      "14    8322.0     4007.0     4371.0     4007.0      3982.0      4214.0  \n",
      "15   38951.0     9141.0     9820.0     9141.0      8110.0      7527.0  \n",
      "16   90074.0     4048.0     4147.0     4048.0      3877.0      3751.0  \n",
      "17   90074.0     4048.0     4147.0     4048.0      3877.0      3751.0  \n",
      "18   26723.0     6556.0     6766.0     6556.0      6266.0      6611.0  \n",
      "19   37836.0     3560.0     3660.0     3560.0      3317.0      3419.0  \n",
      "20  106201.0     8666.0     8982.0     8666.0      7907.0      7633.0  \n",
      "21  106201.0     8666.0     8982.0     8666.0      7907.0      7633.0  \n",
      "22  329248.0    10435.0    10572.0    10435.0     10499.0     12559.0  \n",
      "23  329248.0    10435.0    10572.0    10435.0     10499.0     12559.0  \n",
      "24    3435.0     1554.0     1501.0     1554.0      1599.0      1413.0  \n",
      "\n",
      "[25 rows x 43 columns]\n"
     ]
    }
   ],
   "source": [
    "print(stations_with_data.head(25))"
   ]
  },
  {
   "cell_type": "code",
   "execution_count": 5,
   "id": "4f071959",
   "metadata": {},
   "outputs": [
    {
     "data": {
      "text/plain": [
       "<folium.features.GeoJson at 0x7fcba8698850>"
      ]
     },
     "execution_count": 5,
     "metadata": {},
     "output_type": "execute_result"
    }
   ],
   "source": [
    "# Add rail lines\n",
    "folium.GeoJson(lines, name=\"Rail Lines\").add_to(nj_map)"
   ]
  },
  {
   "cell_type": "code",
   "execution_count": 6,
   "id": "f2f99cfc",
   "metadata": {},
   "outputs": [],
   "source": [
    "# Add Font Awesome CSS to the map\n",
    "nj_map.get_root().header.add_child(folium.Element('<link rel=\"stylesheet\" href=\"https://cdnjs.cloudflare.com/ajax/libs/font-awesome/6.0.0-beta3/css/all.min.css\">'))\n",
    "\n",
    "# Add stations to the map\n",
    "for idx, row in stations_with_data.iterrows():\n",
    "    popup_text = f\"\"\"\n",
    "    <b>Station Name:</b> {row['STATION_ID']}<br>\n",
    "    <b>Rail Line:</b> {row['LINE_CODE_left']}<br>\n",
    "    <b>Municipality:</b> {row['MUN_LABEL']}<br>\n",
    "    <b>Population:</b> {row['POP2020']:,}\n",
    "    \"\"\"\n",
    "    icon_html = '<i class=\"fa-solid fa-train\" style=\"font-size: 20px; color: black;\"></i>'\n",
    "    folium.Marker(\n",
    "    location=[row.geometry.y, row.geometry.x],\n",
    "    popup=folium.Popup(popup_text, max_width=300),\n",
    "    icon=folium.DivIcon(html=icon_html)\n",
    ").add_to(nj_map)"
   ]
  },
  {
   "cell_type": "code",
   "execution_count": 7,
   "id": "98a12225",
   "metadata": {},
   "outputs": [],
   "source": [
    "\n",
    "# Save the map to an HTML file\n",
    "nj_map.save('Visual_1.html')\n"
   ]
  },
  {
   "cell_type": "code",
   "execution_count": null,
   "id": "891a2e8d-8894-49ca-a098-c2ed135ced0a",
   "metadata": {},
   "outputs": [],
   "source": []
  }
 ],
 "metadata": {
  "kernelspec": {
   "display_name": "Python 3 (ipykernel)",
   "language": "python",
   "name": "python3"
  },
  "language_info": {
   "codemirror_mode": {
    "name": "ipython",
    "version": 3
   },
   "file_extension": ".py",
   "mimetype": "text/x-python",
   "name": "python",
   "nbconvert_exporter": "python",
   "pygments_lexer": "ipython3",
   "version": "3.10.14"
  }
 },
 "nbformat": 4,
 "nbformat_minor": 5
}
