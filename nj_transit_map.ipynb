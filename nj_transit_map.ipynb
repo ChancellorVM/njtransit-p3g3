{
 "cells": [
  {
   "cell_type": "code",
   "execution_count": 11,
   "id": "1adfd01f-ebe9-478c-9890-2a4c8b67da35",
   "metadata": {},
   "outputs": [],
   "source": [
    "import pandas as pd\n",
    "import geopandas as gpd\n",
    "import folium"
   ]
  },
  {
   "cell_type": "code",
   "execution_count": 12,
   "id": "76bb6e77-08b3-4ca6-a9cf-423524283809",
   "metadata": {},
   "outputs": [],
   "source": [
    "# Load data\n",
    "stations = gpd.read_file('/Users/vinaymadhugiri/Downloads/NJTransit_Rail_Stations_-3939820597305918471.geojson')  # NJ Transit stations GeoJSON\n",
    "lines = gpd.read_file('/Users/vinaymadhugiri/Downloads/Rail_Lines_of_NJ_Transit.geojson')   # Rail lines GeoJSON\n",
    "municipalities = gpd.read_file('/Users/vinaymadhugiri/Downloads/NJ_Municipal_Boundaries_3424_930771950455602469.geojson')  # Municipalities GeoJSON"
   ]
  },
  {
   "cell_type": "code",
   "execution_count": 5,
   "id": "3251811b-d5ee-496b-88ca-98bdd7c4ddf7",
   "metadata": {},
   "outputs": [],
   "source": [
    "# Create a map\n",
    "nj_map = folium.Map(location=[40.0583, -74.4057], zoom_start=8)"
   ]
  },
  {
   "cell_type": "code",
   "execution_count": 6,
   "id": "d40445df-6100-4cc3-9cd5-46965973025b",
   "metadata": {},
   "outputs": [
    {
     "data": {
      "text/plain": [
       "<folium.features.GeoJson at 0x7fe0760554e0>"
      ]
     },
     "execution_count": 6,
     "metadata": {},
     "output_type": "execute_result"
    }
   ],
   "source": [
    "# Add rail lines\n",
    "folium.GeoJson(lines, name=\"Rail Lines\").add_to(nj_map)"
   ]
  },
  {
   "cell_type": "code",
   "execution_count": 14,
   "id": "772b7ac1-09f9-4b30-afff-36b7e3fa479b",
   "metadata": {},
   "outputs": [],
   "source": [
    "# Join the Stations and Lines\n",
    "stations_with_lines = stations.merge(lines, on='LINE_CODE', how='inner')"
   ]
  },
  {
   "cell_type": "code",
   "execution_count": 13,
   "id": "613f9fa8-8c5d-40a0-9f42-63c4170179ad",
   "metadata": {},
   "outputs": [
    {
     "ename": "ValueError",
     "evalue": "'left_df' should be GeoDataFrame, got <class 'pandas.core.frame.DataFrame'>",
     "output_type": "error",
     "traceback": [
      "\u001b[0;31m---------------------------------------------------------------------------\u001b[0m",
      "\u001b[0;31mValueError\u001b[0m                                Traceback (most recent call last)",
      "Cell \u001b[0;32mIn[13], line 6\u001b[0m\n\u001b[1;32m      1\u001b[0m \u001b[38;5;66;03m# Perform spatial joins with unique suffixes\u001b[39;00m\n\u001b[1;32m      4\u001b[0m stations_with_lines \u001b[38;5;241m=\u001b[39m stations\u001b[38;5;241m.\u001b[39mmerge(lines, on\u001b[38;5;241m=\u001b[39m\u001b[38;5;124m'\u001b[39m\u001b[38;5;124mLINE_CODE\u001b[39m\u001b[38;5;124m'\u001b[39m, how\u001b[38;5;241m=\u001b[39m\u001b[38;5;124m'\u001b[39m\u001b[38;5;124minner\u001b[39m\u001b[38;5;124m'\u001b[39m)\n\u001b[0;32m----> 6\u001b[0m stations_with_data \u001b[38;5;241m=\u001b[39m \u001b[43mgpd\u001b[49m\u001b[38;5;241;43m.\u001b[39;49m\u001b[43msjoin\u001b[49m\u001b[43m(\u001b[49m\n\u001b[1;32m      7\u001b[0m \u001b[43m    \u001b[49m\u001b[43mstations_with_lines\u001b[49m\u001b[43m,\u001b[49m\u001b[43m \u001b[49m\u001b[43mmunicipalities\u001b[49m\u001b[43m,\u001b[49m\u001b[43m \u001b[49m\u001b[43mhow\u001b[49m\u001b[38;5;241;43m=\u001b[39;49m\u001b[38;5;124;43m\"\u001b[39;49m\u001b[38;5;124;43mleft\u001b[39;49m\u001b[38;5;124;43m\"\u001b[39;49m\u001b[43m,\u001b[49m\u001b[43m \u001b[49m\u001b[43mpredicate\u001b[49m\u001b[38;5;241;43m=\u001b[39;49m\u001b[38;5;124;43m\"\u001b[39;49m\u001b[38;5;124;43mwithin\u001b[39;49m\u001b[38;5;124;43m\"\u001b[39;49m\u001b[43m,\u001b[49m\u001b[43m \u001b[49m\u001b[43mlsuffix\u001b[49m\u001b[38;5;241;43m=\u001b[39;49m\u001b[38;5;124;43m\"\u001b[39;49m\u001b[38;5;124;43mstations_lines\u001b[39;49m\u001b[38;5;124;43m\"\u001b[39;49m\u001b[43m,\u001b[49m\u001b[43m \u001b[49m\u001b[43mrsuffix\u001b[49m\u001b[38;5;241;43m=\u001b[39;49m\u001b[38;5;124;43m\"\u001b[39;49m\u001b[38;5;124;43mmunicipalities\u001b[39;49m\u001b[38;5;124;43m\"\u001b[39;49m\n\u001b[1;32m      8\u001b[0m \u001b[43m)\u001b[49m\n",
      "File \u001b[0;32m/opt/anaconda3/envs/dev/lib/python3.10/site-packages/geopandas/tools/sjoin.py:119\u001b[0m, in \u001b[0;36msjoin\u001b[0;34m(left_df, right_df, how, predicate, lsuffix, rsuffix, **kwargs)\u001b[0m\n\u001b[1;32m    116\u001b[0m     first \u001b[38;5;241m=\u001b[39m \u001b[38;5;28mnext\u001b[39m(\u001b[38;5;28miter\u001b[39m(kwargs\u001b[38;5;241m.\u001b[39mkeys()))\n\u001b[1;32m    117\u001b[0m     \u001b[38;5;28;01mraise\u001b[39;00m \u001b[38;5;167;01mTypeError\u001b[39;00m(\u001b[38;5;124mf\u001b[39m\u001b[38;5;124m\"\u001b[39m\u001b[38;5;124msjoin() got an unexpected keyword argument \u001b[39m\u001b[38;5;124m'\u001b[39m\u001b[38;5;132;01m{\u001b[39;00mfirst\u001b[38;5;132;01m}\u001b[39;00m\u001b[38;5;124m'\u001b[39m\u001b[38;5;124m\"\u001b[39m)\n\u001b[0;32m--> 119\u001b[0m \u001b[43m_basic_checks\u001b[49m\u001b[43m(\u001b[49m\u001b[43mleft_df\u001b[49m\u001b[43m,\u001b[49m\u001b[43m \u001b[49m\u001b[43mright_df\u001b[49m\u001b[43m,\u001b[49m\u001b[43m \u001b[49m\u001b[43mhow\u001b[49m\u001b[43m,\u001b[49m\u001b[43m \u001b[49m\u001b[43mlsuffix\u001b[49m\u001b[43m,\u001b[49m\u001b[43m \u001b[49m\u001b[43mrsuffix\u001b[49m\u001b[43m)\u001b[49m\n\u001b[1;32m    121\u001b[0m indices \u001b[38;5;241m=\u001b[39m _geom_predicate_query(left_df, right_df, predicate)\n\u001b[1;32m    123\u001b[0m joined \u001b[38;5;241m=\u001b[39m _frame_join(indices, left_df, right_df, how, lsuffix, rsuffix)\n",
      "File \u001b[0;32m/opt/anaconda3/envs/dev/lib/python3.10/site-packages/geopandas/tools/sjoin.py:147\u001b[0m, in \u001b[0;36m_basic_checks\u001b[0;34m(left_df, right_df, how, lsuffix, rsuffix)\u001b[0m\n\u001b[1;32m    129\u001b[0m \u001b[38;5;250m\u001b[39m\u001b[38;5;124;03m\"\"\"Checks the validity of join input parameters.\u001b[39;00m\n\u001b[1;32m    130\u001b[0m \n\u001b[1;32m    131\u001b[0m \u001b[38;5;124;03m`how` must be one of the valid options.\u001b[39;00m\n\u001b[0;32m   (...)\u001b[0m\n\u001b[1;32m    144\u001b[0m \u001b[38;5;124;03m    right index suffix\u001b[39;00m\n\u001b[1;32m    145\u001b[0m \u001b[38;5;124;03m\"\"\"\u001b[39;00m\n\u001b[1;32m    146\u001b[0m \u001b[38;5;28;01mif\u001b[39;00m \u001b[38;5;129;01mnot\u001b[39;00m \u001b[38;5;28misinstance\u001b[39m(left_df, GeoDataFrame):\n\u001b[0;32m--> 147\u001b[0m     \u001b[38;5;28;01mraise\u001b[39;00m \u001b[38;5;167;01mValueError\u001b[39;00m(\n\u001b[1;32m    148\u001b[0m         \u001b[38;5;124m\"\u001b[39m\u001b[38;5;124m'\u001b[39m\u001b[38;5;124mleft_df\u001b[39m\u001b[38;5;124m'\u001b[39m\u001b[38;5;124m should be GeoDataFrame, got \u001b[39m\u001b[38;5;132;01m{}\u001b[39;00m\u001b[38;5;124m\"\u001b[39m\u001b[38;5;241m.\u001b[39mformat(\u001b[38;5;28mtype\u001b[39m(left_df))\n\u001b[1;32m    149\u001b[0m     )\n\u001b[1;32m    151\u001b[0m \u001b[38;5;28;01mif\u001b[39;00m \u001b[38;5;129;01mnot\u001b[39;00m \u001b[38;5;28misinstance\u001b[39m(right_df, GeoDataFrame):\n\u001b[1;32m    152\u001b[0m     \u001b[38;5;28;01mraise\u001b[39;00m \u001b[38;5;167;01mValueError\u001b[39;00m(\n\u001b[1;32m    153\u001b[0m         \u001b[38;5;124m\"\u001b[39m\u001b[38;5;124m'\u001b[39m\u001b[38;5;124mright_df\u001b[39m\u001b[38;5;124m'\u001b[39m\u001b[38;5;124m should be GeoDataFrame, got \u001b[39m\u001b[38;5;132;01m{}\u001b[39;00m\u001b[38;5;124m\"\u001b[39m\u001b[38;5;241m.\u001b[39mformat(\u001b[38;5;28mtype\u001b[39m(right_df))\n\u001b[1;32m    154\u001b[0m     )\n",
      "\u001b[0;31mValueError\u001b[0m: 'left_df' should be GeoDataFrame, got <class 'pandas.core.frame.DataFrame'>"
     ]
    }
   ],
   "source": [
    "# Perform spatial joins with unique suffixes\n",
    "\n",
    "stations_with_data = gpd.sjoin(\n",
    "    stations_with_lines, municipalities, how=\"left\", predicate=\"within\", lsuffix=\"stations_lines\", rsuffix=\"municipalities\"\n",
    ")\n"
   ]
  },
  {
   "cell_type": "raw",
   "id": "12d22752-c7ce-44fa-9b5a-18c9e1e97a5e",
   "metadata": {},
   "source": [
    "# Filter and sort data\n",
    "stations_with_data = stations_with_data[['STATION_ID', 'LINE_NAME', 'MUN_LABEL', 'POP2020']].sort_values(by='POP2020', ascending=False)\n",
    "\n",
    "# Display top 25 stations by population\n",
    "print(stations_with_data.head(25))"
   ]
  },
  {
   "cell_type": "code",
   "execution_count": 8,
   "id": "1cf9acd2-0c55-4558-8ef7-e36b401b3c9d",
   "metadata": {},
   "outputs": [],
   "source": [
    "# Add stations to the map\n",
    "for idx, row in stations_with_data.iterrows():\n",
    "    popup_text = f\"\"\"\n",
    "    <b>Station Name:</b> {row['STATION_ID']}<br>\n",
    "    <b>Rail Line:</b> {row['LINE_NAME']}<br>\n",
    "    <b>Municipality:</b> {row['MUN_LABEL']}<br>\n",
    "    <b>Population:</b> {row['POP2020']:,}\n",
    "    \"\"\"\n",
    "    folium.Marker(\n",
    "        location=[row.geometry.y, row.geometry.x],\n",
    "        popup=folium.Popup(popup_text, max_width=300)\n",
    "    ).add_to(nj_map)\n"
   ]
  },
  {
   "cell_type": "code",
   "execution_count": 9,
   "id": "23fe4423-8fe7-466a-ab5e-7a271674b874",
   "metadata": {},
   "outputs": [],
   "source": [
    "# Save the map\n",
    "nj_map.save(\"nj_transit_map.html\")"
   ]
  },
  {
   "cell_type": "code",
   "execution_count": 10,
   "id": "6b480fc1-5b1d-4729-8b77-6e8ac6e42f0d",
   "metadata": {},
   "outputs": [
    {
     "name": "stdout",
     "output_type": "stream",
     "text": [
      "                               NAME  POP2020\n",
      "442                     Jersey City   292449\n",
      "141               Lakewood Township   135158\n",
      "132             Toms River Township    95438\n",
      "147                  Brick Township    73620\n",
      "562                          Camden    71791\n",
      "282                         Bayonne    71686\n",
      "303                      Union City    68589\n",
      "237               Franklin Township    68364\n",
      "222             Old Bridge Township    66876\n",
      "541             Gloucester Township    66034\n",
      "315           North Bergen Township    63361\n",
      "440              Irvington Township    61176\n",
      "247             Piscataway Township    60804\n",
      "39                         Vineland    60780\n",
      "155                Jackson Township    58544\n",
      "519  Parsippany-Troy Hills Township    56162\n",
      "170                 Howell Township    53537\n",
      "308                   West New York    52912\n",
      "226         East Brunswick Township    49715\n",
      "316            West Orange Township    48843\n",
      "540             Washington Township    48677\n",
      "517                 Monroe Township    48594\n",
      "479             Egg Harbor Township    47842\n",
      "215        South Brunswick Township    47043\n",
      "495                Evesham Township    46826\n"
     ]
    }
   ],
   "source": [
    "# Spatial join\n",
    "municipalities_without_stations = municipalities[~municipalities.intersects(stations.unary_union)]\n",
    "\n",
    "# Add population and sort\n",
    "municipalities_without_stations = municipalities_without_stations[['NAME', 'POP2020']].sort_values(by='POP2020', ascending=False)\n",
    "print(municipalities_without_stations.head(25))"
   ]
  },
  {
   "cell_type": "code",
   "execution_count": null,
   "id": "a338498f-7f84-4e0b-bdbe-ad27ed51e361",
   "metadata": {},
   "outputs": [],
   "source": []
  }
 ],
 "metadata": {
  "kernelspec": {
   "display_name": "Python 3 (ipykernel)",
   "language": "python",
   "name": "python3"
  },
  "language_info": {
   "codemirror_mode": {
    "name": "ipython",
    "version": 3
   },
   "file_extension": ".py",
   "mimetype": "text/x-python",
   "name": "python",
   "nbconvert_exporter": "python",
   "pygments_lexer": "ipython3",
   "version": "3.10.14"
  }
 },
 "nbformat": 4,
 "nbformat_minor": 5
}
